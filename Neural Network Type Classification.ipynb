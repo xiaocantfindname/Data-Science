{
  "nbformat": 4,
  "nbformat_minor": 0,
  "metadata": {
    "colab": {
      "name": "Untitled3.ipynb",
      "provenance": [],
      "collapsed_sections": []
    },
    "kernelspec": {
      "name": "python3",
      "display_name": "Python 3"
    },
    "language_info": {
      "name": "python"
    }
  },
  "cells": [
    {
      "cell_type": "markdown",
      "source": [
        "# Neural Network Type Classification"
      ],
      "metadata": {
        "id": "nNruIXdYNLPL"
      }
    },
    {
      "cell_type": "markdown",
      "source": [
        "**Abstract**"
      ],
      "metadata": {
        "id": "TojWDPzlifxK"
      }
    },
    {
      "cell_type": "markdown",
      "source": [
        "I chosed TMNIST (Typeface MNIST)\n",
        "[kaggle dataset](https://www.kaggle.com/datasets/7a2a5621ee8c66c1aba046f9810a79aa27aafdbbe5d6a475b861d2ba8552d1fc?resource=download)\n",
        "as my dataset for this assignment, and built a CNN network model to classify the numbers. As the result, the trained model has 99% accuracy on test dataset. \n"
      ],
      "metadata": {
        "id": "fz4x7UUViiYD"
      }
    },
    {
      "cell_type": "markdown",
      "source": [
        "**Import Dataset and Libraries**"
      ],
      "metadata": {
        "id": "QxzuDB9zb4QQ"
      }
    },
    {
      "cell_type": "code",
      "source": [
        "import pandas as pd\n",
        "from sklearn.model_selection import train_test_split\n",
        "import numpy as np\n",
        "import matplotlib.pyplot as plt\n",
        "import tensorflow as tf \n",
        "from tensorflow.keras.utils import to_categorical\n",
        "\n",
        "\n",
        "data = pd.read_csv(\"/content/TMNIST_Data.csv\")"
      ],
      "metadata": {
        "id": "ZQCLT1OEb3v8"
      },
      "execution_count": 6,
      "outputs": []
    },
    {
      "cell_type": "markdown",
      "source": [
        "**Data Preprocessing**"
      ],
      "metadata": {
        "id": "SlTxDIivNTPe"
      }
    },
    {
      "cell_type": "markdown",
      "source": [
        "Before building the model, we are goiong to look into our dataset to ensure what kind of data we have and preprocess the data."
      ],
      "metadata": {
        "id": "31tvUQHzbcS7"
      }
    },
    {
      "cell_type": "code",
      "source": [
        "data.shape"
      ],
      "metadata": {
        "colab": {
          "base_uri": "https://localhost:8080/"
        },
        "id": "QQyQ-qSZOCTY",
        "outputId": "f97965c2-7f07-45e0-ffc6-83ea16e5f62d"
      },
      "execution_count": 16,
      "outputs": [
        {
          "output_type": "execute_result",
          "data": {
            "text/plain": [
              "(29900, 786)"
            ]
          },
          "metadata": {},
          "execution_count": 16
        }
      ]
    },
    {
      "cell_type": "code",
      "source": [
        "data.head()"
      ],
      "metadata": {
        "id": "i3Re8WiObbwj",
        "colab": {
          "base_uri": "https://localhost:8080/",
          "height": 235
        },
        "outputId": "ca8be954-2759-46b5-eebb-7b1a6c637cd0"
      },
      "execution_count": 2,
      "outputs": [
        {
          "output_type": "execute_result",
          "data": {
            "text/plain": [
              "                        names  labels  1  2  3  4  5  6  7  8  ...  775  776  \\\n",
              "0          GrandHotel-Regular       2  0  0  0  0  0  0  0  0  ...    0    0   \n",
              "1  EncodeSansCondensed-Medium       8  0  0  0  0  0  0  0  0  ...    0    0   \n",
              "2              Varela-Regular       4  0  0  0  0  0  0  0  0  ...    0    0   \n",
              "3              ArefRuqaa-Bold       3  0  0  0  0  0  0  0  0  ...    0    0   \n",
              "4           KulimPark-Regular       1  0  0  0  0  0  0  0  0  ...    0    0   \n",
              "\n",
              "   777  778  779  780  781  782  783  784  \n",
              "0    0    0    0    0    0    0    0    0  \n",
              "1    0    0    0    0    0    0    0    0  \n",
              "2    0    0    0    0    0    0    0    0  \n",
              "3    0    0    0    0    0    0    0    0  \n",
              "4    0    0    0    0    0    0    0    0  \n",
              "\n",
              "[5 rows x 786 columns]"
            ],
            "text/html": [
              "\n",
              "  <div id=\"df-f6672265-3b84-4a56-81e9-dd3b1f2e246a\">\n",
              "    <div class=\"colab-df-container\">\n",
              "      <div>\n",
              "<style scoped>\n",
              "    .dataframe tbody tr th:only-of-type {\n",
              "        vertical-align: middle;\n",
              "    }\n",
              "\n",
              "    .dataframe tbody tr th {\n",
              "        vertical-align: top;\n",
              "    }\n",
              "\n",
              "    .dataframe thead th {\n",
              "        text-align: right;\n",
              "    }\n",
              "</style>\n",
              "<table border=\"1\" class=\"dataframe\">\n",
              "  <thead>\n",
              "    <tr style=\"text-align: right;\">\n",
              "      <th></th>\n",
              "      <th>names</th>\n",
              "      <th>labels</th>\n",
              "      <th>1</th>\n",
              "      <th>2</th>\n",
              "      <th>3</th>\n",
              "      <th>4</th>\n",
              "      <th>5</th>\n",
              "      <th>6</th>\n",
              "      <th>7</th>\n",
              "      <th>8</th>\n",
              "      <th>...</th>\n",
              "      <th>775</th>\n",
              "      <th>776</th>\n",
              "      <th>777</th>\n",
              "      <th>778</th>\n",
              "      <th>779</th>\n",
              "      <th>780</th>\n",
              "      <th>781</th>\n",
              "      <th>782</th>\n",
              "      <th>783</th>\n",
              "      <th>784</th>\n",
              "    </tr>\n",
              "  </thead>\n",
              "  <tbody>\n",
              "    <tr>\n",
              "      <th>0</th>\n",
              "      <td>GrandHotel-Regular</td>\n",
              "      <td>2</td>\n",
              "      <td>0</td>\n",
              "      <td>0</td>\n",
              "      <td>0</td>\n",
              "      <td>0</td>\n",
              "      <td>0</td>\n",
              "      <td>0</td>\n",
              "      <td>0</td>\n",
              "      <td>0</td>\n",
              "      <td>...</td>\n",
              "      <td>0</td>\n",
              "      <td>0</td>\n",
              "      <td>0</td>\n",
              "      <td>0</td>\n",
              "      <td>0</td>\n",
              "      <td>0</td>\n",
              "      <td>0</td>\n",
              "      <td>0</td>\n",
              "      <td>0</td>\n",
              "      <td>0</td>\n",
              "    </tr>\n",
              "    <tr>\n",
              "      <th>1</th>\n",
              "      <td>EncodeSansCondensed-Medium</td>\n",
              "      <td>8</td>\n",
              "      <td>0</td>\n",
              "      <td>0</td>\n",
              "      <td>0</td>\n",
              "      <td>0</td>\n",
              "      <td>0</td>\n",
              "      <td>0</td>\n",
              "      <td>0</td>\n",
              "      <td>0</td>\n",
              "      <td>...</td>\n",
              "      <td>0</td>\n",
              "      <td>0</td>\n",
              "      <td>0</td>\n",
              "      <td>0</td>\n",
              "      <td>0</td>\n",
              "      <td>0</td>\n",
              "      <td>0</td>\n",
              "      <td>0</td>\n",
              "      <td>0</td>\n",
              "      <td>0</td>\n",
              "    </tr>\n",
              "    <tr>\n",
              "      <th>2</th>\n",
              "      <td>Varela-Regular</td>\n",
              "      <td>4</td>\n",
              "      <td>0</td>\n",
              "      <td>0</td>\n",
              "      <td>0</td>\n",
              "      <td>0</td>\n",
              "      <td>0</td>\n",
              "      <td>0</td>\n",
              "      <td>0</td>\n",
              "      <td>0</td>\n",
              "      <td>...</td>\n",
              "      <td>0</td>\n",
              "      <td>0</td>\n",
              "      <td>0</td>\n",
              "      <td>0</td>\n",
              "      <td>0</td>\n",
              "      <td>0</td>\n",
              "      <td>0</td>\n",
              "      <td>0</td>\n",
              "      <td>0</td>\n",
              "      <td>0</td>\n",
              "    </tr>\n",
              "    <tr>\n",
              "      <th>3</th>\n",
              "      <td>ArefRuqaa-Bold</td>\n",
              "      <td>3</td>\n",
              "      <td>0</td>\n",
              "      <td>0</td>\n",
              "      <td>0</td>\n",
              "      <td>0</td>\n",
              "      <td>0</td>\n",
              "      <td>0</td>\n",
              "      <td>0</td>\n",
              "      <td>0</td>\n",
              "      <td>...</td>\n",
              "      <td>0</td>\n",
              "      <td>0</td>\n",
              "      <td>0</td>\n",
              "      <td>0</td>\n",
              "      <td>0</td>\n",
              "      <td>0</td>\n",
              "      <td>0</td>\n",
              "      <td>0</td>\n",
              "      <td>0</td>\n",
              "      <td>0</td>\n",
              "    </tr>\n",
              "    <tr>\n",
              "      <th>4</th>\n",
              "      <td>KulimPark-Regular</td>\n",
              "      <td>1</td>\n",
              "      <td>0</td>\n",
              "      <td>0</td>\n",
              "      <td>0</td>\n",
              "      <td>0</td>\n",
              "      <td>0</td>\n",
              "      <td>0</td>\n",
              "      <td>0</td>\n",
              "      <td>0</td>\n",
              "      <td>...</td>\n",
              "      <td>0</td>\n",
              "      <td>0</td>\n",
              "      <td>0</td>\n",
              "      <td>0</td>\n",
              "      <td>0</td>\n",
              "      <td>0</td>\n",
              "      <td>0</td>\n",
              "      <td>0</td>\n",
              "      <td>0</td>\n",
              "      <td>0</td>\n",
              "    </tr>\n",
              "  </tbody>\n",
              "</table>\n",
              "<p>5 rows × 786 columns</p>\n",
              "</div>\n",
              "      <button class=\"colab-df-convert\" onclick=\"convertToInteractive('df-f6672265-3b84-4a56-81e9-dd3b1f2e246a')\"\n",
              "              title=\"Convert this dataframe to an interactive table.\"\n",
              "              style=\"display:none;\">\n",
              "        \n",
              "  <svg xmlns=\"http://www.w3.org/2000/svg\" height=\"24px\"viewBox=\"0 0 24 24\"\n",
              "       width=\"24px\">\n",
              "    <path d=\"M0 0h24v24H0V0z\" fill=\"none\"/>\n",
              "    <path d=\"M18.56 5.44l.94 2.06.94-2.06 2.06-.94-2.06-.94-.94-2.06-.94 2.06-2.06.94zm-11 1L8.5 8.5l.94-2.06 2.06-.94-2.06-.94L8.5 2.5l-.94 2.06-2.06.94zm10 10l.94 2.06.94-2.06 2.06-.94-2.06-.94-.94-2.06-.94 2.06-2.06.94z\"/><path d=\"M17.41 7.96l-1.37-1.37c-.4-.4-.92-.59-1.43-.59-.52 0-1.04.2-1.43.59L10.3 9.45l-7.72 7.72c-.78.78-.78 2.05 0 2.83L4 21.41c.39.39.9.59 1.41.59.51 0 1.02-.2 1.41-.59l7.78-7.78 2.81-2.81c.8-.78.8-2.07 0-2.86zM5.41 20L4 18.59l7.72-7.72 1.47 1.35L5.41 20z\"/>\n",
              "  </svg>\n",
              "      </button>\n",
              "      \n",
              "  <style>\n",
              "    .colab-df-container {\n",
              "      display:flex;\n",
              "      flex-wrap:wrap;\n",
              "      gap: 12px;\n",
              "    }\n",
              "\n",
              "    .colab-df-convert {\n",
              "      background-color: #E8F0FE;\n",
              "      border: none;\n",
              "      border-radius: 50%;\n",
              "      cursor: pointer;\n",
              "      display: none;\n",
              "      fill: #1967D2;\n",
              "      height: 32px;\n",
              "      padding: 0 0 0 0;\n",
              "      width: 32px;\n",
              "    }\n",
              "\n",
              "    .colab-df-convert:hover {\n",
              "      background-color: #E2EBFA;\n",
              "      box-shadow: 0px 1px 2px rgba(60, 64, 67, 0.3), 0px 1px 3px 1px rgba(60, 64, 67, 0.15);\n",
              "      fill: #174EA6;\n",
              "    }\n",
              "\n",
              "    [theme=dark] .colab-df-convert {\n",
              "      background-color: #3B4455;\n",
              "      fill: #D2E3FC;\n",
              "    }\n",
              "\n",
              "    [theme=dark] .colab-df-convert:hover {\n",
              "      background-color: #434B5C;\n",
              "      box-shadow: 0px 1px 3px 1px rgba(0, 0, 0, 0.15);\n",
              "      filter: drop-shadow(0px 1px 2px rgba(0, 0, 0, 0.3));\n",
              "      fill: #FFFFFF;\n",
              "    }\n",
              "  </style>\n",
              "\n",
              "      <script>\n",
              "        const buttonEl =\n",
              "          document.querySelector('#df-f6672265-3b84-4a56-81e9-dd3b1f2e246a button.colab-df-convert');\n",
              "        buttonEl.style.display =\n",
              "          google.colab.kernel.accessAllowed ? 'block' : 'none';\n",
              "\n",
              "        async function convertToInteractive(key) {\n",
              "          const element = document.querySelector('#df-f6672265-3b84-4a56-81e9-dd3b1f2e246a');\n",
              "          const dataTable =\n",
              "            await google.colab.kernel.invokeFunction('convertToInteractive',\n",
              "                                                     [key], {});\n",
              "          if (!dataTable) return;\n",
              "\n",
              "          const docLinkHtml = 'Like what you see? Visit the ' +\n",
              "            '<a target=\"_blank\" href=https://colab.research.google.com/notebooks/data_table.ipynb>data table notebook</a>'\n",
              "            + ' to learn more about interactive tables.';\n",
              "          element.innerHTML = '';\n",
              "          dataTable['output_type'] = 'display_data';\n",
              "          await google.colab.output.renderOutput(dataTable, element);\n",
              "          const docLink = document.createElement('div');\n",
              "          docLink.innerHTML = docLinkHtml;\n",
              "          element.appendChild(docLink);\n",
              "        }\n",
              "      </script>\n",
              "    </div>\n",
              "  </div>\n",
              "  "
            ]
          },
          "metadata": {},
          "execution_count": 2
        }
      ]
    },
    {
      "cell_type": "code",
      "execution_count": 3,
      "metadata": {
        "id": "-LxoLsv0NKAJ",
        "colab": {
          "base_uri": "https://localhost:8080/"
        },
        "outputId": "bfeec623-beae-4024-c503-4596daeae71e"
      },
      "outputs": [
        {
          "output_type": "execute_result",
          "data": {
            "text/plain": [
              "GrandHotel-Regular          10\n",
              "Laila-Regular               10\n",
              "Tajawal-Medium              10\n",
              "Numans-Regular              10\n",
              "PT_Sans-Web-Italic          10\n",
              "                            ..\n",
              "Thasadith-Bold              10\n",
              "CherryBomb-Regular          10\n",
              "NotoSansOriyaUI-Thin        10\n",
              "Kodchasan-SemiBoldItalic    10\n",
              "AveriaSerifLibre-Ligh       10\n",
              "Name: names, Length: 2990, dtype: int64"
            ]
          },
          "metadata": {},
          "execution_count": 3
        }
      ],
      "source": [
        "data['names'].value_counts()"
      ]
    },
    {
      "cell_type": "code",
      "source": [
        "data['labels'].value_counts()"
      ],
      "metadata": {
        "colab": {
          "base_uri": "https://localhost:8080/"
        },
        "id": "GoUb8SCP4Y1R",
        "outputId": "5bea2486-d33f-4ee3-8a47-c8aa1aebec8b"
      },
      "execution_count": 4,
      "outputs": [
        {
          "output_type": "execute_result",
          "data": {
            "text/plain": [
              "2    2990\n",
              "8    2990\n",
              "4    2990\n",
              "3    2990\n",
              "1    2990\n",
              "6    2990\n",
              "5    2990\n",
              "9    2990\n",
              "7    2990\n",
              "0    2990\n",
              "Name: labels, dtype: int64"
            ]
          },
          "metadata": {},
          "execution_count": 4
        }
      ]
    },
    {
      "cell_type": "markdown",
      "source": [
        "Split lables and names, also split data into train and test dataset.\n",
        "\n"
      ],
      "metadata": {
        "id": "VAccGlkI6Xdm"
      }
    },
    {
      "cell_type": "code",
      "source": [
        "x = data.iloc[:, 2:786].astype('float32') \n",
        "y = data[['labels']]\n",
        "x_train, x_test, y_train, y_test = train_test_split(x, y, test_size = 0.3)\n",
        "print(len(x_train))\n",
        "print(len(x_test))"
      ],
      "metadata": {
        "colab": {
          "base_uri": "https://localhost:8080/"
        },
        "id": "dO_fnNeI6VEG",
        "outputId": "9b4b67a6-6376-492b-93ac-a3c80c6acf4c"
      },
      "execution_count": 28,
      "outputs": [
        {
          "output_type": "stream",
          "name": "stdout",
          "text": [
            "20930\n",
            "8970\n"
          ]
        }
      ]
    },
    {
      "cell_type": "markdown",
      "source": [
        "Normalize x_train and convert y_test into binary class matrix."
      ],
      "metadata": {
        "id": "ncIzBWaCReDH"
      }
    },
    {
      "cell_type": "code",
      "source": [
        "x_train = np.array(x_train)\n",
        "x_test = np.array(x_test)\n",
        "x_train = (x_train/255).reshape(20930,28,28,1).astype('float32')\n",
        "x_test = (x_test/255).reshape(8970,28,28,1).astype('float32')\n",
        "y_train = to_categorical(y_train)\n",
        "y_test = to_categorical(y_test)"
      ],
      "metadata": {
        "id": "dH70v4skLNGF"
      },
      "execution_count": 29,
      "outputs": []
    },
    {
      "cell_type": "markdown",
      "source": [
        "**Build Model**"
      ],
      "metadata": {
        "id": "AK0D0V4lUTjl"
      }
    },
    {
      "cell_type": "markdown",
      "source": [
        "Import libraries"
      ],
      "metadata": {
        "id": "09ASaouzVaXC"
      }
    },
    {
      "cell_type": "code",
      "source": [
        "from tensorflow.keras.models import Sequential,load_model\n",
        "from tensorflow.keras.layers import Dense, Conv2D, MaxPool2D,Flatten,Dropout,BatchNormalization\n",
        "from tensorflow.keras.optimizers import SGD, Adam, RMSprop\n",
        "from tensorflow.keras.callbacks import EarlyStopping"
      ],
      "metadata": {
        "id": "MMByOXdSUWl7"
      },
      "execution_count": 30,
      "outputs": []
    },
    {
      "cell_type": "markdown",
      "source": [
        "Chose Relu as activation layer because it's fast and simple, add pooling layer betweent convolution layer. Use dense to build fully connection layer, use softmax to classify the output. finally complie the model and chose adam algorithm as optimizer"
      ],
      "metadata": {
        "id": "_NYkdNB3VvdP"
      }
    },
    {
      "cell_type": "code",
      "source": [
        "model = Sequential()\n",
        "model.add(Conv2D(32,(3,3), input_shape=(28,28,1), activation='relu'))\n",
        "model.add(MaxPool2D(pool_size=(2,2)))\n",
        "model.add(Conv2D(64,(3,3), activation='relu'))\n",
        "model.add(MaxPool2D(pool_size = (2,2)))\n",
        "model.add(Dropout(0.2))\n",
        "model.add(Flatten())\n",
        "model.add(Dense(64, activation='relu'))\n",
        "model.add(Dense(10, activation='softmax'))\n",
        "model.compile(loss='categorical_crossentropy', optimizer='adam', metrics=['accuracy'])\n",
        "model.summary()"
      ],
      "metadata": {
        "colab": {
          "base_uri": "https://localhost:8080/"
        },
        "id": "Pwqz6gd_atRn",
        "outputId": "8b82ed1f-cf0c-4efd-f323-12e38f9e3c33"
      },
      "execution_count": 33,
      "outputs": [
        {
          "output_type": "stream",
          "name": "stdout",
          "text": [
            "Model: \"sequential_2\"\n",
            "_________________________________________________________________\n",
            " Layer (type)                Output Shape              Param #   \n",
            "=================================================================\n",
            " conv2d_3 (Conv2D)           (None, 26, 26, 32)        320       \n",
            "                                                                 \n",
            " max_pooling2d_2 (MaxPooling  (None, 13, 13, 32)       0         \n",
            " 2D)                                                             \n",
            "                                                                 \n",
            " conv2d_4 (Conv2D)           (None, 11, 11, 64)        18496     \n",
            "                                                                 \n",
            " max_pooling2d_3 (MaxPooling  (None, 5, 5, 64)         0         \n",
            " 2D)                                                             \n",
            "                                                                 \n",
            " dropout_1 (Dropout)         (None, 5, 5, 64)          0         \n",
            "                                                                 \n",
            " flatten_1 (Flatten)         (None, 1600)              0         \n",
            "                                                                 \n",
            " dense_2 (Dense)             (None, 64)                102464    \n",
            "                                                                 \n",
            " dense_3 (Dense)             (None, 10)                650       \n",
            "                                                                 \n",
            "=================================================================\n",
            "Total params: 121,930\n",
            "Trainable params: 121,930\n",
            "Non-trainable params: 0\n",
            "_________________________________________________________________\n"
          ]
        }
      ]
    },
    {
      "cell_type": "markdown",
      "source": [
        "**Train Model**"
      ],
      "metadata": {
        "id": "GuGwRe0Tit7q"
      }
    },
    {
      "cell_type": "markdown",
      "source": [
        "Chose a relatively small batch to save memory and improve accuracy, split 20% of data as validation dataset, so model could be tested during training process."
      ],
      "metadata": {
        "id": "hYOC3a-Gi4o2"
      }
    },
    {
      "cell_type": "code",
      "source": [
        "result = model.fit(x_train, y_train, validation_split=0.2, epochs=10, batch_size=64)"
      ],
      "metadata": {
        "colab": {
          "base_uri": "https://localhost:8080/"
        },
        "id": "tG8pS-Gjblvu",
        "outputId": "cbf85be8-9441-48c7-9577-0ee05fe18368"
      },
      "execution_count": 34,
      "outputs": [
        {
          "output_type": "stream",
          "name": "stdout",
          "text": [
            "Epoch 1/10\n",
            "262/262 [==============================] - 15s 54ms/step - loss: 0.3392 - accuracy: 0.9105 - val_loss: 0.0950 - val_accuracy: 0.9742\n",
            "Epoch 2/10\n",
            "262/262 [==============================] - 14s 52ms/step - loss: 0.0798 - accuracy: 0.9772 - val_loss: 0.0838 - val_accuracy: 0.9763\n",
            "Epoch 3/10\n",
            "262/262 [==============================] - 13s 51ms/step - loss: 0.0582 - accuracy: 0.9833 - val_loss: 0.0559 - val_accuracy: 0.9818\n",
            "Epoch 4/10\n",
            "262/262 [==============================] - 13s 51ms/step - loss: 0.0433 - accuracy: 0.9876 - val_loss: 0.0429 - val_accuracy: 0.9876\n",
            "Epoch 5/10\n",
            "262/262 [==============================] - 13s 51ms/step - loss: 0.0342 - accuracy: 0.9895 - val_loss: 0.0380 - val_accuracy: 0.9912\n",
            "Epoch 6/10\n",
            "262/262 [==============================] - 14s 52ms/step - loss: 0.0290 - accuracy: 0.9914 - val_loss: 0.0331 - val_accuracy: 0.9907\n",
            "Epoch 7/10\n",
            "262/262 [==============================] - 13s 52ms/step - loss: 0.0244 - accuracy: 0.9925 - val_loss: 0.0405 - val_accuracy: 0.9900\n",
            "Epoch 8/10\n",
            "262/262 [==============================] - 13s 51ms/step - loss: 0.0199 - accuracy: 0.9935 - val_loss: 0.0346 - val_accuracy: 0.9909\n",
            "Epoch 9/10\n",
            "262/262 [==============================] - 13s 51ms/step - loss: 0.0180 - accuracy: 0.9938 - val_loss: 0.0371 - val_accuracy: 0.9904\n",
            "Epoch 10/10\n",
            "262/262 [==============================] - 13s 51ms/step - loss: 0.0179 - accuracy: 0.9950 - val_loss: 0.0342 - val_accuracy: 0.9921\n"
          ]
        }
      ]
    },
    {
      "cell_type": "code",
      "source": [
        "history_dict = result.history\n",
        "history_dict.keys()"
      ],
      "metadata": {
        "colab": {
          "base_uri": "https://localhost:8080/"
        },
        "id": "MGGQ_Fpnde46",
        "outputId": "a16a8f85-c1ee-4350-e15b-61d1fc1611ad"
      },
      "execution_count": 35,
      "outputs": [
        {
          "output_type": "execute_result",
          "data": {
            "text/plain": [
              "dict_keys(['loss', 'accuracy', 'val_loss', 'val_accuracy'])"
            ]
          },
          "metadata": {},
          "execution_count": 35
        }
      ]
    },
    {
      "cell_type": "code",
      "source": [
        "loss = result.history['loss']\n",
        "acc = result.history['accuracy']\n",
        "val_loss = result.history['val_loss']\n",
        "val_acc = result.history['val_accuracy']\n",
        "epochs = range(1, len(loss) + 1)\n",
        "plt.figure()\n",
        "plt.plot(epochs, val_acc,label='Training val_accuracy')\n",
        "plt.plot(epochs, acc,label='Training accuracy')\n",
        "\n",
        "plt.show()"
      ],
      "metadata": {
        "colab": {
          "base_uri": "https://localhost:8080/",
          "height": 265
        },
        "id": "BU2dIQYjeIIj",
        "outputId": "d26fc8a9-6b2b-4431-b445-f0e3840e0c06"
      },
      "execution_count": 42,
      "outputs": [
        {
          "output_type": "display_data",
          "data": {
            "text/plain": [
              "<Figure size 432x288 with 1 Axes>"
            ],
            "image/png": "[encoded data removed]"
          },
          "metadata": {
            "needs_background": "light"
          }
        }
      ]
    },
    {
      "cell_type": "code",
      "source": [
        "plt.figure()\n",
        "plt.plot(epochs,val_loss, label='Training val_loss')\n",
        "plt.plot(epochs,loss, label='Training loss')\n",
        "\n",
        "plt.show()"
      ],
      "metadata": {
        "colab": {
          "base_uri": "https://localhost:8080/",
          "height": 266
        },
        "id": "avFEVKH-gzML",
        "outputId": "19d89646-09d5-4429-f0cd-358baf81f02b"
      },
      "execution_count": 43,
      "outputs": [
        {
          "output_type": "display_data",
          "data": {
            "text/plain": [
              "<Figure size 432x288 with 1 Axes>"
            ],
            "image/png": "[encoded data removed]"
          },
          "metadata": {
            "needs_background": "light"
          }
        }
      ]
    },
    {
      "cell_type": "code",
      "source": [
        "test_loss, test_acc = model.evaluate(x_test, y_test)"
      ],
      "metadata": {
        "colab": {
          "base_uri": "https://localhost:8080/"
        },
        "id": "A1ZD-z-qgzJW",
        "outputId": "c136d819-ad0f-4c4b-eb1e-92ad51e7b81e"
      },
      "execution_count": 44,
      "outputs": [
        {
          "output_type": "stream",
          "name": "stdout",
          "text": [
            "281/281 [==============================] - 3s 9ms/step - loss: 0.0364 - accuracy: 0.9907\n"
          ]
        }
      ]
    },
    {
      "cell_type": "code",
      "source": [
        "print(test_acc)"
      ],
      "metadata": {
        "colab": {
          "base_uri": "https://localhost:8080/"
        },
        "id": "S_8vi7EsiEUW",
        "outputId": "b40090cb-541f-47c0-d184-12ee26fe7722"
      },
      "execution_count": 45,
      "outputs": [
        {
          "output_type": "stream",
          "name": "stdout",
          "text": [
            "0.9907469153404236\n"
          ]
        }
      ]
    },
    {
      "cell_type": "markdown",
      "source": [
        "**Conclusion**"
      ],
      "metadata": {
        "id": "4T6L_fOTilxQ"
      }
    },
    {
      "cell_type": "markdown",
      "source": [
        "The performance of this CNN model is good, the accuracy after 10 round of training is 0.9921, and the testing accuracy is 0.9907"
      ],
      "metadata": {
        "id": "vqxEduP4io_T"
      }
    }
  ]
}
